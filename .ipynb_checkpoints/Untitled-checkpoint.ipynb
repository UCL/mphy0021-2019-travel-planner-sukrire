{
 "cells": [
  {
   "cell_type": "code",
   "execution_count": 8,
   "metadata": {},
   "outputs": [],
   "source": [
    "run Route.py"
   ]
  },
  {
   "cell_type": "code",
   "execution_count": 42,
   "metadata": {},
   "outputs": [],
   "source": [
    "run Passenger.py"
   ]
  },
  {
   "cell_type": "code",
   "execution_count": 67,
   "metadata": {},
   "outputs": [],
   "source": [
    "run Journey.py"
   ]
  },
  {
   "cell_type": "code",
   "execution_count": 50,
   "metadata": {},
   "outputs": [],
   "source": [
    "journey=Journey(\"route.csv\",\"passenger.csv\",speed=10)"
   ]
  },
  {
   "cell_type": "code",
   "execution_count": 68,
   "metadata": {},
   "outputs": [
    {
     "data": {
      "text/plain": [
       "{0: ['Walk time', 'Bus time'],\n",
       " 1: ['266.4432397340942', '0'],\n",
       " 2: ['244.4994887520217', '0'],\n",
       " 3: ['159.62455951387932', '0'],\n",
       " 4: ['141.50971698084905', '0'],\n",
       " 5: ['104.35516278555652', '0'],\n",
       " 6: ['327.7315975001495', '0'],\n",
       " 7: ['193.49418595916518', '0'],\n",
       " 8: ['18.38477631085024', '0'],\n",
       " 9: ['465.7145048202815', '0'],\n",
       " 10: ['22.627416997969522', '0']}"
      ]
     },
     "execution_count": 68,
     "metadata": {},
     "output_type": "execute_result"
    }
   ],
   "source": [
    "Journey.travel_time(journey)"
   ]
  },
  {
   "cell_type": "code",
   "execution_count": 69,
   "metadata": {},
   "outputs": [
    {
     "name": "stdout",
     "output_type": "stream",
     "text": [
      "(0, 0)\n",
      "(0, 0)\n",
      "(0, 0)\n",
      "(0, 0)\n",
      "(0, 0)\n",
      "(0, 0)\n",
      "(0, 0)\n",
      "(0, 0)\n",
      "(0, 0)\n",
      "(0, 0)\n"
     ]
    }
   ],
   "source": [
    "#Journey.plot_bus_load(journey)\n",
    "for i in range(10):\n",
    "    print(Journey.passenger_trip_time(journey,i))"
   ]
  },
  {
   "cell_type": "code",
   "execution_count": 70,
   "metadata": {},
   "outputs": [
    {
     "ename": "TypeError",
     "evalue": "'module' object is not callable",
     "output_type": "error",
     "traceback": [
      "\u001b[1;31m---------------------------------------------------------------------------\u001b[0m",
      "\u001b[1;31mTypeError\u001b[0m                                 Traceback (most recent call last)",
      "\u001b[1;32m<ipython-input-70-4d2602c9243c>\u001b[0m in \u001b[0;36m<module>\u001b[1;34m\u001b[0m\n\u001b[1;32m----> 1\u001b[1;33m \u001b[0mjohn\u001b[0m\u001b[1;33m=\u001b[0m\u001b[0mPassenger\u001b[0m\u001b[1;33m(\u001b[0m\u001b[0mstart\u001b[0m\u001b[1;33m=\u001b[0m\u001b[1;33m(\u001b[0m\u001b[1;36m0\u001b[0m\u001b[1;33m,\u001b[0m\u001b[1;36m2\u001b[0m\u001b[1;33m)\u001b[0m\u001b[1;33m,\u001b[0m\u001b[0mend\u001b[0m\u001b[1;33m=\u001b[0m\u001b[1;33m(\u001b[0m\u001b[1;36m8\u001b[0m\u001b[1;33m,\u001b[0m\u001b[1;36m1\u001b[0m\u001b[1;33m)\u001b[0m\u001b[1;33m,\u001b[0m\u001b[0mpace\u001b[0m\u001b[1;33m=\u001b[0m\u001b[1;36m15\u001b[0m\u001b[1;33m)\u001b[0m\u001b[1;33m\u001b[0m\u001b[1;33m\u001b[0m\u001b[0m\n\u001b[0m\u001b[0;32m      2\u001b[0m \u001b[0mmary\u001b[0m\u001b[1;33m=\u001b[0m\u001b[0mPassenger\u001b[0m\u001b[1;33m(\u001b[0m\u001b[0mstart\u001b[0m\u001b[1;33m=\u001b[0m\u001b[1;33m(\u001b[0m\u001b[1;36m0\u001b[0m\u001b[1;33m,\u001b[0m\u001b[1;36m0\u001b[0m\u001b[1;33m)\u001b[0m\u001b[1;33m,\u001b[0m\u001b[0mend\u001b[0m\u001b[1;33m=\u001b[0m\u001b[1;33m(\u001b[0m\u001b[1;36m6\u001b[0m\u001b[1;33m,\u001b[0m\u001b[1;36m2\u001b[0m\u001b[1;33m)\u001b[0m\u001b[1;33m,\u001b[0m\u001b[0mpace\u001b[0m\u001b[1;33m=\u001b[0m\u001b[1;36m12\u001b[0m\u001b[1;33m)\u001b[0m\u001b[1;33m\u001b[0m\u001b[1;33m\u001b[0m\u001b[0m\n\u001b[0;32m      3\u001b[0m \u001b[0mmany\u001b[0m\u001b[1;33m=\u001b[0m\u001b[0mPassenger\u001b[0m\u001b[1;33m(\u001b[0m\u001b[1;34m\"passenger.csv\"\u001b[0m\u001b[1;33m,\u001b[0m\u001b[1;36m0\u001b[0m\u001b[1;33m)\u001b[0m\u001b[1;33m\u001b[0m\u001b[1;33m\u001b[0m\u001b[0m\n",
      "\u001b[1;31mTypeError\u001b[0m: 'module' object is not callable"
     ]
    }
   ],
   "source": [
    "john=Passenger(start=(0,2),end=(8,1),pace=15)\n",
    "mary=Passenger(start=(0,0),end=(6,2),pace=12)\n",
    "many=Passenger(\"passenger.csv\",0)"
   ]
  },
  {
   "cell_type": "code",
   "execution_count": 71,
   "metadata": {},
   "outputs": [
    {
     "ename": "TypeError",
     "evalue": "'module' object is not callable",
     "output_type": "error",
     "traceback": [
      "\u001b[1;31m---------------------------------------------------------------------------\u001b[0m",
      "\u001b[1;31mTypeError\u001b[0m                                 Traceback (most recent call last)",
      "\u001b[1;32m<ipython-input-71-fa8dcbaeeab2>\u001b[0m in \u001b[0;36m<module>\u001b[1;34m\u001b[0m\n\u001b[1;32m----> 1\u001b[1;33m \u001b[0mroute\u001b[0m\u001b[1;33m=\u001b[0m\u001b[0mRoute\u001b[0m\u001b[1;33m(\u001b[0m\u001b[1;34m\"route.csv\"\u001b[0m\u001b[1;33m)\u001b[0m\u001b[1;33m\u001b[0m\u001b[1;33m\u001b[0m\u001b[0m\n\u001b[0m",
      "\u001b[1;31mTypeError\u001b[0m: 'module' object is not callable"
     ]
    }
   ],
   "source": [
    "route=Route(\"route.csv\")"
   ]
  },
  {
   "cell_type": "code",
   "execution_count": 72,
   "metadata": {},
   "outputs": [
    {
     "name": "stdout",
     "output_type": "stream",
     "text": [
      "Average time spent on bus: 0.0 \n",
      " Average time spent walking: 194.44\n"
     ]
    }
   ],
   "source": [
    "Journey.print_time_stats(journey)"
   ]
  },
  {
   "cell_type": "code",
   "execution_count": 7,
   "metadata": {},
   "outputs": [
    {
     "ename": "AttributeError",
     "evalue": "module 'Passenger' has no attribute 'walktime'",
     "output_type": "error",
     "traceback": [
      "\u001b[1;31m---------------------------------------------------------------------------\u001b[0m",
      "\u001b[1;31mAttributeError\u001b[0m                            Traceback (most recent call last)",
      "\u001b[1;32m<ipython-input-7-5b061df073f2>\u001b[0m in \u001b[0;36m<module>\u001b[1;34m\u001b[0m\n\u001b[0;32m      1\u001b[0m \u001b[1;32mfor\u001b[0m \u001b[0mi\u001b[0m \u001b[1;32min\u001b[0m \u001b[0mrange\u001b[0m\u001b[1;33m(\u001b[0m\u001b[1;36m10\u001b[0m\u001b[1;33m)\u001b[0m\u001b[1;33m:\u001b[0m\u001b[1;33m\u001b[0m\u001b[1;33m\u001b[0m\u001b[0m\n\u001b[1;32m----> 2\u001b[1;33m     \u001b[0mprint\u001b[0m\u001b[1;33m(\u001b[0m\u001b[0mPassenger\u001b[0m\u001b[1;33m.\u001b[0m\u001b[0mwalktime\u001b[0m\u001b[1;33m(\u001b[0m\u001b[0mmany\u001b[0m\u001b[1;33m,\u001b[0m\u001b[0mi\u001b[0m\u001b[1;33m)\u001b[0m\u001b[1;33m)\u001b[0m\u001b[1;33m\u001b[0m\u001b[1;33m\u001b[0m\u001b[0m\n\u001b[0m",
      "\u001b[1;31mAttributeError\u001b[0m: module 'Passenger' has no attribute 'walktime'"
     ]
    }
   ],
   "source": [
    "for i in range(10):\n",
    "    print(Passenger.walktime(many,i))"
   ]
  },
  {
   "cell_type": "code",
   "execution_count": 7,
   "metadata": {},
   "outputs": [
    {
     "data": {
      "text/plain": [
       "[('A', 0, 0),\n",
       " ('', '', ''),\n",
       " ('', '', ''),\n",
       " ('', '', ''),\n",
       " ('', '', ''),\n",
       " ('', '', ''),\n",
       " ('', '', ''),\n",
       " ('', '', ''),\n",
       " ('', '', ''),\n",
       " ('', '', ''),\n",
       " ('', '', ''),\n",
       " ('', '', ''),\n",
       " ('B', 24, 12),\n",
       " ('', '', ''),\n",
       " ('', '', ''),\n",
       " ('', '', ''),\n",
       " ('', '', ''),\n",
       " ('C', 34, 17),\n",
       " ('D', 36, 18),\n",
       " ('E', 38, 19),\n",
       " ('', '', ''),\n",
       " ('', '', ''),\n",
       " ('F', 44, 22),\n",
       " ('', '', ''),\n",
       " ('', '', ''),\n",
       " ('G', 50, 25)]"
      ]
     },
     "execution_count": 7,
     "metadata": {},
     "output_type": "execute_result"
    }
   ],
   "source": [
    "journey.timetable"
   ]
  },
  {
   "cell_type": "code",
   "execution_count": 8,
   "metadata": {},
   "outputs": [
    {
     "name": "stdout",
     "output_type": "stream",
     "text": [
      "((7.615773105863909, 0), (10.198039027185569, 25))\n",
      "((10.04987562112089, 0), (2.0, 12))\n",
      "((5.385164807134504, 0), (1.0, 18))\n",
      "((3.605551275463989, 0), (5.830951894845301, 0))\n",
      "((2.23606797749979, 0), (11.180339887498949, 0))\n",
      "((10.0, 12), (10.770329614269007, 22))\n",
      "((6.082762530298219, 0), (10.44030650891055, 0))\n",
      "((9.055385138137417, 0), (8.246211251235321, 0))\n",
      "((10.770329614269007, 17), (9.433981132056603, 0))\n",
      "((7.211102550927978, 0), (8.602325267042627, 0))\n"
     ]
    }
   ],
   "source": [
    "for i in range(10):\n",
    "    print(Journey.passenger_trip(journey,i))"
   ]
  },
  {
   "cell_type": "code",
   "execution_count": 13,
   "metadata": {},
   "outputs": [
    {
     "name": "stdout",
     "output_type": "stream",
     "text": [
      "[('A', 0, 0), ('', '', ''), ('', '', ''), ('', '', ''), ('', '', ''), ('', '', ''), ('', '', ''), ('', '', ''), ('', '', ''), ('', '', ''), ('', '', ''), ('', '', ''), ('B', 120, 12), ('', '', ''), ('', '', ''), ('', '', ''), ('', '', ''), ('C', 170, 17), ('D', 180, 18), ('E', 190, 19), ('', '', ''), ('', '', ''), ('F', 220, 22), ('', '', ''), ('', '', ''), ('G', 250, 25)]\n"
     ]
    },
    {
     "data": {
      "image/png": "[encoded data removed]",
      "text/plain": [
       "<Figure size 432x288 with 1 Axes>"
      ]
     },
     "metadata": {
      "needs_background": "light"
     },
     "output_type": "display_data"
    },
    {
     "data": {
      "text/plain": [
       "((5, 10), '6666000000002220000020000')"
      ]
     },
     "execution_count": 13,
     "metadata": {},
     "output_type": "execute_result"
    }
   ],
   "source": [
    "print(Route.timetable(route))\n",
    "Route.plot_map(route)\n",
    "Route.route_cc(route)"
   ]
  },
  {
   "cell_type": "code",
   "execution_count": 37,
   "metadata": {},
   "outputs": [
    {
     "name": "stdout",
     "output_type": "stream",
     "text": [
      "['Walk time', 'Bus time']\n",
      "['327.7315975001495', '349.2439553712281']\n"
     ]
    }
   ],
   "source": [
    "print(journey.traveldic[0])\n",
    "print(journey.traveldic[6])"
   ]
  },
  {
   "cell_type": "code",
   "execution_count": 16,
   "metadata": {},
   "outputs": [
    {
     "data": {
      "text/plain": [
       "{'route': <Route.Route at 0x20f5f715748>,\n",
       " 'passenger': <Passenger.Passenger at 0x20f5f715f48>,\n",
       " 'timetable': [('A', 0, 0),\n",
       "  ('', '', ''),\n",
       "  ('', '', ''),\n",
       "  ('', '', ''),\n",
       "  ('', '', ''),\n",
       "  ('', '', ''),\n",
       "  ('', '', ''),\n",
       "  ('', '', ''),\n",
       "  ('', '', ''),\n",
       "  ('', '', ''),\n",
       "  ('', '', ''),\n",
       "  ('', '', ''),\n",
       "  ('B', 120, 12),\n",
       "  ('', '', ''),\n",
       "  ('', '', ''),\n",
       "  ('', '', ''),\n",
       "  ('', '', ''),\n",
       "  ('C', 170, 17),\n",
       "  ('D', 180, 18),\n",
       "  ('E', 190, 19),\n",
       "  ('', '', ''),\n",
       "  ('', '', ''),\n",
       "  ('F', 220, 22),\n",
       "  ('', '', ''),\n",
       "  ('', '', ''),\n",
       "  ('G', 250, 25)],\n",
       " 'stops': [0, 12, 17, 18, 19, 22, 25],\n",
       " 'distances': [(8.602325267042627, 0),\n",
       "  (17.029386365926403, 12),\n",
       "  (17.0, 17),\n",
       "  (17.88854381999832, 18),\n",
       "  (18.788294228055936, 19),\n",
       "  (20.248456731316587, 22),\n",
       "  (23.08679276123039, 25)]}"
      ]
     },
     "execution_count": 16,
     "metadata": {},
     "output_type": "execute_result"
    }
   ],
   "source": [
    "vars(journey)"
   ]
  },
  {
   "cell_type": "code",
   "execution_count": 177,
   "metadata": {},
   "outputs": [
    {
     "data": {
      "text/plain": [
       "{'start': [],\n",
       " 'end': [],\n",
       " 'pace': [],\n",
       " 'specifystart': (0, 2),\n",
       " 'specifyend': (8, 1),\n",
       " 'specifypace': 15}"
      ]
     },
     "execution_count": 177,
     "metadata": {},
     "output_type": "execute_result"
    }
   ],
   "source": [
    "vars(john)"
   ]
  },
  {
   "cell_type": "code",
   "execution_count": 68,
   "metadata": {},
   "outputs": [
    {
     "data": {
      "text/plain": [
       "{'start': [],\n",
       " 'end': [],\n",
       " 'pace': [],\n",
       " 'specifystart': None,\n",
       " 'specifyend': None,\n",
       " 'specifypace': None,\n",
       " 'route': <Route.Route at 0x1a045092f88>,\n",
       " 'stops': [0, 12, 17, 18, 19, 22, 25]}"
      ]
     },
     "execution_count": 68,
     "metadata": {},
     "output_type": "execute_result"
    }
   ],
   "source": [
    "vars(j1)"
   ]
  },
  {
   "cell_type": "code",
   "execution_count": 24,
   "metadata": {},
   "outputs": [
    {
     "ename": "AttributeError",
     "evalue": "'Journey' object has no attribute 'specifystart'",
     "output_type": "error",
     "traceback": [
      "\u001b[1;31m---------------------------------------------------------------------------\u001b[0m",
      "\u001b[1;31mAttributeError\u001b[0m                            Traceback (most recent call last)",
      "\u001b[1;32m<ipython-input-24-2bd698f0166d>\u001b[0m in \u001b[0;36m<module>\u001b[1;34m\u001b[0m\n\u001b[1;32m----> 1\u001b[1;33m \u001b[0mjourney\u001b[0m\u001b[1;33m=\u001b[0m\u001b[0mJourney\u001b[0m\u001b[1;33m(\u001b[0m\u001b[1;34m\"route.csv\"\u001b[0m\u001b[1;33m,\u001b[0m\u001b[0mJohn\u001b[0m\u001b[1;33m)\u001b[0m\u001b[1;33m\u001b[0m\u001b[1;33m\u001b[0m\u001b[0m\n\u001b[0m",
      "\u001b[1;32m~\\OneDrive\\GIThub\\travelplanner\\Journey.py\u001b[0m in \u001b[0;36m__init__\u001b[1;34m(self, route, specificpassenger, passenger, passnovar, speed)\u001b[0m\n\u001b[0;32m     11\u001b[0m                 \u001b[1;31m#self.specifyend = Passenger.Passenger.specifyend\u001b[0m\u001b[1;33m\u001b[0m\u001b[1;33m\u001b[0m\u001b[1;33m\u001b[0m\u001b[0m\n\u001b[0;32m     12\u001b[0m                 \u001b[1;31m#self.specifypace = Passenger.Passenger.specifypace\u001b[0m\u001b[1;33m\u001b[0m\u001b[1;33m\u001b[0m\u001b[1;33m\u001b[0m\u001b[0m\n\u001b[1;32m---> 13\u001b[1;33m                 \u001b[0mprint\u001b[0m\u001b[1;33m(\u001b[0m\u001b[0mself\u001b[0m\u001b[1;33m.\u001b[0m\u001b[0mspecifystart\u001b[0m\u001b[1;33m)\u001b[0m\u001b[1;33m\u001b[0m\u001b[1;33m\u001b[0m\u001b[0m\n\u001b[0m\u001b[0;32m     14\u001b[0m                 \u001b[0mself\u001b[0m\u001b[1;33m.\u001b[0m\u001b[0mroute\u001b[0m \u001b[1;33m=\u001b[0m \u001b[0mRoute\u001b[0m\u001b[1;33m.\u001b[0m\u001b[0mRoute\u001b[0m\u001b[1;33m(\u001b[0m\u001b[0mroute\u001b[0m\u001b[1;33m,\u001b[0m\u001b[0mspeed\u001b[0m\u001b[1;33m)\u001b[0m\u001b[1;33m\u001b[0m\u001b[1;33m\u001b[0m\u001b[0m\n\u001b[0;32m     15\u001b[0m                 \u001b[0mself\u001b[0m\u001b[1;33m.\u001b[0m\u001b[0mpassenger\u001b[0m \u001b[1;33m=\u001b[0m \u001b[0mPassenger\u001b[0m\u001b[1;33m.\u001b[0m\u001b[0mPassenger\u001b[0m\u001b[1;33m(\u001b[0m\u001b[0mpassenger\u001b[0m\u001b[1;33m,\u001b[0m\u001b[0mpassno\u001b[0m\u001b[1;33m=\u001b[0m\u001b[0mpassnovar\u001b[0m\u001b[1;33m)\u001b[0m\u001b[1;33m\u001b[0m\u001b[1;33m\u001b[0m\u001b[0m\n",
      "\u001b[1;31mAttributeError\u001b[0m: 'Journey' object has no attribute 'specifystart'"
     ]
    }
   ],
   "source": [
    "journey=Journey(\"route.csv\",John)"
   ]
  },
  {
   "cell_type": "code",
   "execution_count": 39,
   "metadata": {},
   "outputs": [
    {
     "data": {
      "text/plain": [
       "327.7315975001495"
      ]
     },
     "execution_count": 39,
     "metadata": {},
     "output_type": "execute_result"
    }
   ],
   "source": [
    "Passenger.walktime(pass1)"
   ]
  },
  {
   "cell_type": "code",
   "execution_count": 29,
   "metadata": {},
   "outputs": [],
   "source": [
    "r1=Route(\"route.csv\",speed=30)"
   ]
  },
  {
   "cell_type": "code",
   "execution_count": 9,
   "metadata": {},
   "outputs": [
    {
     "data": {
      "text/plain": [
       "[('A', 0, 0),\n",
       " ('', '', ''),\n",
       " ('', '', ''),\n",
       " ('', '', ''),\n",
       " ('', '', ''),\n",
       " ('', '', ''),\n",
       " ('', '', ''),\n",
       " ('', '', ''),\n",
       " ('', '', ''),\n",
       " ('', '', ''),\n",
       " ('', '', ''),\n",
       " ('', '', ''),\n",
       " ('B', 360, 12),\n",
       " ('', '', ''),\n",
       " ('', '', ''),\n",
       " ('', '', ''),\n",
       " ('', '', ''),\n",
       " ('C', 510, 17),\n",
       " ('D', 540, 18),\n",
       " ('E', 570, 19),\n",
       " ('', '', ''),\n",
       " ('', '', ''),\n",
       " ('F', 660, 22),\n",
       " ('', '', ''),\n",
       " ('', '', ''),\n",
       " ('G', 750, 25)]"
      ]
     },
     "execution_count": 9,
     "metadata": {},
     "output_type": "execute_result"
    }
   ],
   "source": [
    "Route.timetable(r1)"
   ]
  },
  {
   "cell_type": "code",
   "execution_count": 36,
   "metadata": {},
   "outputs": [
    {
     "data": {
      "image/png": "[encoded data removed]",
      "text/plain": [
       "<Figure size 432x288 with 1 Axes>"
      ]
     },
     "metadata": {
      "needs_background": "light"
     },
     "output_type": "display_data"
    }
   ],
   "source": [
    "Journey.plot_bus_load(journey)"
   ]
  },
  {
   "cell_type": "code",
   "execution_count": 18,
   "metadata": {},
   "outputs": [
    {
     "data": {
      "text/plain": [
       "[('A', 0, 0),\n",
       " ('', '', ''),\n",
       " ('', '', ''),\n",
       " ('', '', ''),\n",
       " ('', '', ''),\n",
       " ('', '', ''),\n",
       " ('', '', ''),\n",
       " ('', '', ''),\n",
       " ('', '', ''),\n",
       " ('', '', ''),\n",
       " ('', '', ''),\n",
       " ('', '', ''),\n",
       " ('B', 600, 12),\n",
       " ('', '', ''),\n",
       " ('', '', ''),\n",
       " ('', '', ''),\n",
       " ('', '', ''),\n",
       " ('C', 850, 17),\n",
       " ('D', 900, 18),\n",
       " ('E', 950, 19),\n",
       " ('', '', ''),\n",
       " ('', '', ''),\n",
       " ('F', 1100, 22),\n",
       " ('', '', ''),\n",
       " ('', '', ''),\n",
       " ('G', 1250, 25)]"
      ]
     },
     "execution_count": 18,
     "metadata": {},
     "output_type": "execute_result"
    }
   ],
   "source": [
    "j1.timetable"
   ]
  },
  {
   "cell_type": "code",
   "execution_count": 30,
   "metadata": {},
   "outputs": [
    {
     "data": {
      "image/png": "[encoded data removed]",
      "text/plain": [
       "<Figure size 432x288 with 1 Axes>"
      ]
     },
     "metadata": {
      "needs_background": "light"
     },
     "output_type": "display_data"
    }
   ],
   "source": [
    "Route.plot_map(r1)"
   ]
  }
 ],
 "metadata": {
  "kernelspec": {
   "display_name": "Python 3",
   "language": "python",
   "name": "python3"
  },
  "language_info": {
   "codemirror_mode": {
    "name": "ipython",
    "version": 3
   },
   "file_extension": ".py",
   "mimetype": "text/x-python",
   "name": "python",
   "nbconvert_exporter": "python",
   "pygments_lexer": "ipython3",
   "version": "3.7.4"
  }
 },
 "nbformat": 4,
 "nbformat_minor": 2
}
